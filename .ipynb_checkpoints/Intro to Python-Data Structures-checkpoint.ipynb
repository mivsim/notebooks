{
 "cells": [
  {
   "cell_type": "markdown",
   "metadata": {},
   "source": [
    "#this was updated by Mark Sims on 4/19/2021"
   ]
  },
  {
   "cell_type": "markdown",
   "metadata": {},
   "source": [
    "https://docs.python.org/3/tutorial/datastructures.html"
   ]
  },
  {
   "cell_type": "markdown",
   "metadata": {},
   "source": [
    "# Lists"
   ]
  },
  {
   "cell_type": "markdown",
   "metadata": {},
   "source": [
    "A list is a container. A single list can contain multiple data types including strings,integer,objects,dates,etc...<br>\n",
    "Here's how to create an empty list named list1"
   ]
  },
  {
   "cell_type": "code",
   "execution_count": null,
   "metadata": {},
   "outputs": [],
   "source": [
    "list1=[]       #create an empty list"
   ]
  },
  {
   "cell_type": "markdown",
   "metadata": {},
   "source": [
    "Use the append function to add a number to the list...this will add the numbers 1 through 10.<br>\n",
    "Append is very useful because it allows you to add items to a list programatically.\n"
   ]
  },
  {
   "cell_type": "code",
   "execution_count": null,
   "metadata": {},
   "outputs": [],
   "source": [
    "list1.append(1)\n",
    "list1.append(2)\n",
    "list1.append(3)\n",
    "list1.append(4)\n",
    "list1.append(5)\n",
    "list1.append(6)\n",
    "list1.append(7)\n",
    "list1.append(8)\n",
    "list1.append(9)\n",
    "list1.append(10)"
   ]
  },
  {
   "cell_type": "markdown",
   "metadata": {},
   "source": [
    "Let's see what's in our list"
   ]
  },
  {
   "cell_type": "code",
   "execution_count": null,
   "metadata": {},
   "outputs": [],
   "source": [
    "list1       #this outputs the list"
   ]
  },
  {
   "cell_type": "markdown",
   "metadata": {},
   "source": [
    "<b>RANGE</b><br><br>\n",
    "The range object creates a list of numbers. The parameters that can be passed are (min size, max size, step size)<br><br> \n",
    "The default minimum value is 0 and the default step size is 1. <br><br>The maximum size is the range value -1."
   ]
  },
  {
   "cell_type": "code",
   "execution_count": null,
   "metadata": {},
   "outputs": [],
   "source": [
    "z=range(10)       #create a list of numbers from 0 to 9...default min size is 0 and step size is 1\n",
    "print(z)\n",
    "print(list(z))"
   ]
  },
  {
   "cell_type": "code",
   "execution_count": null,
   "metadata": {},
   "outputs": [],
   "source": [
    "z=range(2,11)    #create a list of numbers from 2 to 10\n",
    "print(z)\n",
    "print(list(z))"
   ]
  },
  {
   "cell_type": "code",
   "execution_count": null,
   "metadata": {},
   "outputs": [],
   "source": [
    "z=range(5,26,5)   #create a list of numbers from 5 to 25 by five's..we're passing the step size of 5\n",
    "print(z)\n",
    "print(list(z))"
   ]
  },
  {
   "cell_type": "markdown",
   "metadata": {},
   "source": [
    "<b>LIST COMPREHENSION</b>"
   ]
  },
  {
   "cell_type": "markdown",
   "metadata": {},
   "source": [
    "This is a much easier way to populate a list...it's called List Comprehension. The range function creates numbers starting from the first argument up to but not including the second argument...which is from 1 to 10 in this case."
   ]
  },
  {
   "cell_type": "code",
   "execution_count": null,
   "metadata": {},
   "outputs": [],
   "source": [
    "list2=[u for u in range(1,11)]    #this creates a list with values from 1 to 10"
   ]
  },
  {
   "cell_type": "code",
   "execution_count": null,
   "metadata": {},
   "outputs": [],
   "source": [
    "list2"
   ]
  },
  {
   "cell_type": "markdown",
   "metadata": {},
   "source": [
    "We can add list2 to list1 by using the extend function"
   ]
  },
  {
   "cell_type": "code",
   "execution_count": null,
   "metadata": {},
   "outputs": [],
   "source": [
    "list1.extend(list2)\n",
    "print(list1)"
   ]
  },
  {
   "cell_type": "markdown",
   "metadata": {},
   "source": [
    "<b> LIST Functions</b><br>\n",
    "<li><b>INSERT</b> inserts an element at a specified index position</li>\n",
    "<li><b>POP</b> removes the last element in a list</li>\n",
    "<li><b>DELETE</b> removes an element from a list at a specified index position</li>\n",
    "<li><b>REMOVE</b> removes a specific element from a list</li>\n",
    "<li><b>INDEX</b> returns the index where the specified element occurs</li>\n",
    "<li><b>REVERSE</b>reveres the order of elements in the list</li>\n",
    "<li><b>SORT</b> sorts the element in the list</li>"
   ]
  },
  {
   "cell_type": "code",
   "execution_count": null,
   "metadata": {},
   "outputs": [],
   "source": [
    "print(list1)              #print the list before inserting\n",
    "list1.insert(0,0)         #insert the number 0 at the index 0 of the list\n",
    "print(list1)              #print the list after inserting"
   ]
  },
  {
   "cell_type": "code",
   "execution_count": null,
   "metadata": {},
   "outputs": [],
   "source": [
    "print(list1)             #print the list before popping it\n",
    "list1.pop()              #pop the list and remove the last item in the list\n",
    "print(list1)             #print the list after popping it"
   ]
  },
  {
   "cell_type": "code",
   "execution_count": null,
   "metadata": {},
   "outputs": [],
   "source": [
    "print(list1)             #print the list before deleting\n",
    "del list1[1]             #delete the element at index position 1\n",
    "print(list1)             #print the list after deleting"
   ]
  },
  {
   "cell_type": "code",
   "execution_count": null,
   "metadata": {},
   "outputs": [],
   "source": [
    "print(list1)            #print the list before removing\n",
    "list1.remove(2)         #remove the number 2 from the list\n",
    "print(list1)            #print the list after removing"
   ]
  },
  {
   "cell_type": "code",
   "execution_count": null,
   "metadata": {},
   "outputs": [],
   "source": [
    "print(list2)\n",
    "print(list2.index(2))    #print the index position where the number 2 occurs"
   ]
  },
  {
   "cell_type": "code",
   "execution_count": null,
   "metadata": {},
   "outputs": [],
   "source": [
    "print(list2)\n",
    "list2.reverse()\n",
    "print(list2)"
   ]
  },
  {
   "cell_type": "code",
   "execution_count": null,
   "metadata": {},
   "outputs": [],
   "source": [
    "list1.sort()         #sort the values in the list\n",
    "list1"
   ]
  },
  {
   "cell_type": "code",
   "execution_count": null,
   "metadata": {},
   "outputs": [],
   "source": [
    "print(sum(list1))       #see the sum of all elements in a list\n",
    "print(min(list1))       #see the min element in a list\n",
    "print(max(list1))       #see the max element in a list"
   ]
  },
  {
   "cell_type": "code",
   "execution_count": null,
   "metadata": {},
   "outputs": [],
   "source": [
    "print(list1.count(1))        #see how many times that 1 occurs in the list"
   ]
  },
  {
   "cell_type": "markdown",
   "metadata": {},
   "source": [
    "Use the clear function to remove all the elements from the list"
   ]
  },
  {
   "cell_type": "code",
   "execution_count": null,
   "metadata": {},
   "outputs": [],
   "source": [
    "list2.clear()                #removes all the elements from list2"
   ]
  },
  {
   "cell_type": "markdown",
   "metadata": {},
   "source": [
    "You can select elements within a list by using slicing"
   ]
  },
  {
   "cell_type": "code",
   "execution_count": null,
   "metadata": {},
   "outputs": [],
   "source": [
    "list1[0:5] ##this will select all elements from index 0 up to but not including index 5"
   ]
  },
  {
   "cell_type": "code",
   "execution_count": null,
   "metadata": {},
   "outputs": [],
   "source": [
    "list1[-5:-1] #this selects the fifth from last to the second to last"
   ]
  },
  {
   "cell_type": "code",
   "execution_count": null,
   "metadata": {},
   "outputs": [],
   "source": [
    "list1[::-1]      #this will reverse the list"
   ]
  },
  {
   "cell_type": "code",
   "execution_count": null,
   "metadata": {},
   "outputs": [],
   "source": [
    "list1[3:] #if the second argument is blank, then all indexes after the first argument will be selected"
   ]
  },
  {
   "cell_type": "markdown",
   "metadata": {},
   "source": [
    "Lists (unlike arrays) can store any combination of variable types. Think of a list as a container object."
   ]
  },
  {
   "cell_type": "code",
   "execution_count": null,
   "metadata": {},
   "outputs": [],
   "source": [
    "variable_list=[]\n",
    "variable_list.append('Hello')         #add a string variable\n",
    "variable_list.append(100)             #add an integer variable\n",
    "variable_list.append(23.467859)       #add a float variable\n",
    "variable_list.append(True)            #add a boolean variable\n",
    "\n",
    "for v in variable_list:\n",
    "    print(type(v))"
   ]
  },
  {
   "cell_type": "markdown",
   "metadata": {},
   "source": [
    "# SETS"
   ]
  },
  {
   "cell_type": "markdown",
   "metadata": {},
   "source": [
    "A set is similar to a list but it contains no repeating elements. A set can be created from an existing list."
   ]
  },
  {
   "cell_type": "code",
   "execution_count": null,
   "metadata": {},
   "outputs": [],
   "source": [
    "setnew=set()       #you can use the set constructor to create a new set\n",
    "print(type(setnew))"
   ]
  },
  {
   "cell_type": "code",
   "execution_count": null,
   "metadata": {},
   "outputs": [],
   "source": [
    "set1=set(list1)   #convert a list to a set"
   ]
  },
  {
   "cell_type": "code",
   "execution_count": null,
   "metadata": {},
   "outputs": [],
   "source": [
    "set1"
   ]
  },
  {
   "cell_type": "code",
   "execution_count": null,
   "metadata": {},
   "outputs": [],
   "source": [
    "list2=[x for x in range(10)]    #build a second list with numbers from 0 to 9"
   ]
  },
  {
   "cell_type": "code",
   "execution_count": null,
   "metadata": {},
   "outputs": [],
   "source": [
    "set2=set(list2)"
   ]
  },
  {
   "cell_type": "code",
   "execution_count": null,
   "metadata": {},
   "outputs": [],
   "source": [
    "set2"
   ]
  },
  {
   "cell_type": "markdown",
   "metadata": {},
   "source": [
    "<b>SET Functions</b><br>\n",
    "\n",
    "<li><b>ADD</b> adds an element to the set\n",
    "<li><b>CLEAR</b> removes all elements from the set<br>\n",
    "<li><b>DISCARD</b> removes the specified element from a set\n",
    "<li><b>DIFFERENCE</b> returns a set which is the difference between two sets\n",
    "<li><b>INTERSECTION</b> returns a set which is the intersection of two other sets\n",
    "<li><b>UNION</b> returns a set which contains all elements in both sets\n",
    "<li><b>ISDISJOINT</b> returns whether or not all items in a set do not exist in another set\n",
    "<li><b>ISSUBSET</b> returns whether this set is a subset of another set\n",
    "<li><b>ISSUPERSET</b> returns whether this set is a superset of another set"
   ]
  },
  {
   "cell_type": "markdown",
   "metadata": {},
   "source": [
    "You can use set operators on sets"
   ]
  },
  {
   "cell_type": "code",
   "execution_count": null,
   "metadata": {},
   "outputs": [],
   "source": [
    "set1=set([1,2,3,4,5])                     #create a new set named set1\n",
    "set2=set([5,6,7,8,9])                     #create a new set named set2\n",
    "set3=set1.intersection(set2)              #create a new set that is the intersection of set1 and set 2\n",
    "set4=set1.difference(set2)                #create a new set that is the difference between set1 and set2\n",
    "set5=set1.union(set2)                     #create a new set that is the union of set1 and set2\n",
    "print(set3)\n",
    "print(set4)\n",
    "print(set5)"
   ]
  },
  {
   "cell_type": "code",
   "execution_count": null,
   "metadata": {},
   "outputs": [],
   "source": [
    "set1={1,2,3}\n",
    "set2={1,2,3,4,5}\n",
    "set1.isdisjoint(set2)"
   ]
  },
  {
   "cell_type": "code",
   "execution_count": null,
   "metadata": {},
   "outputs": [],
   "source": [
    "set1={1,2,3}\n",
    "set2={4,5,6}\n",
    "set1.isdisjoint(set2)"
   ]
  },
  {
   "cell_type": "code",
   "execution_count": null,
   "metadata": {},
   "outputs": [],
   "source": [
    "set1={1,2,3,4,5,6}\n",
    "set2={1,2,3}\n",
    "set1.issuperset(set2)"
   ]
  },
  {
   "cell_type": "code",
   "execution_count": null,
   "metadata": {},
   "outputs": [],
   "source": [
    "set1={1,2,3,4,5,6}\n",
    "set2={1,2,3}\n",
    "set2.issubset(set1)"
   ]
  },
  {
   "cell_type": "markdown",
   "metadata": {},
   "source": [
    "# Exercise 1"
   ]
  },
  {
   "cell_type": "markdown",
   "metadata": {},
   "source": [
    "Print the list after performing each item below so you can see the changes that were made<br><br>\n",
    "<li>Create a list named mylist with numbers ranging from 1 to 100 by twos using list comprehension<br>\n",
    "<li>Add the numbers 500 and 1000 to end of the list<br> \n",
    "<li>Insert the number -1 at the beginning of the list<br>\n",
    "<li>Reverse and print the list<br>\n",
    "<li>Sort and print the list<br>\n",
    "<li>Pop the list to remove the last element<br>\n",
    "<li>Remove the number 3 from the list<br>\n",
    "<li>Clear the list<br>"
   ]
  },
  {
   "cell_type": "code",
   "execution_count": null,
   "metadata": {},
   "outputs": [],
   "source": [
    "mylist=[x for x in range(1,101,2)]\n",
    "mylist.append(500)\n",
    "mylist.append(1000)\n",
    "mylist.insert(0,-1)    \n",
    "mylist.reverse()\n",
    "mylist.sort()\n",
    "mylist.pop()\n",
    "mylist.remove(3)\n",
    "mylist.clear()"
   ]
  },
  {
   "cell_type": "code",
   "execution_count": null,
   "metadata": {},
   "outputs": [],
   "source": [
    "mylist"
   ]
  },
  {
   "cell_type": "markdown",
   "metadata": {},
   "source": [
    "# Dictionaries"
   ]
  },
  {
   "cell_type": "markdown",
   "metadata": {},
   "source": [
    "Dictionary are unordered key/values pair. Each element in a dictionary has a key and a value. Elements are chosen by their key value, not by their index position like in Lists. You can access either the keys, values or both by using the keys(), values() or items() functions."
   ]
  },
  {
   "cell_type": "code",
   "execution_count": null,
   "metadata": {},
   "outputs": [],
   "source": [
    "dict1={}        #create an empty dictionary object"
   ]
  },
  {
   "cell_type": "code",
   "execution_count": null,
   "metadata": {},
   "outputs": [],
   "source": [
    "dict1[1]='A' #The key is 1 and the value is 'A'"
   ]
  },
  {
   "cell_type": "code",
   "execution_count": null,
   "metadata": {},
   "outputs": [],
   "source": [
    "dict1      #output the dictionary object"
   ]
  },
  {
   "cell_type": "code",
   "execution_count": null,
   "metadata": {},
   "outputs": [],
   "source": [
    "dict1[2]='B' #The key is 2 and the value is 'B'"
   ]
  },
  {
   "cell_type": "code",
   "execution_count": null,
   "metadata": {},
   "outputs": [],
   "source": [
    "dict1"
   ]
  },
  {
   "cell_type": "markdown",
   "metadata": {},
   "source": [
    "You can loop through all the items in a dictionary and display them"
   ]
  },
  {
   "cell_type": "code",
   "execution_count": null,
   "metadata": {},
   "outputs": [],
   "source": [
    "for key,val in dict1.items():            #loop through the key/value pairs in the dictionary object\n",
    "    print(key,val,sep='-')               #print each key/value pair separated by a -"
   ]
  },
  {
   "cell_type": "code",
   "execution_count": null,
   "metadata": {},
   "outputs": [],
   "source": [
    "dict1.items()                           #output the key/value pairs "
   ]
  },
  {
   "cell_type": "code",
   "execution_count": null,
   "metadata": {},
   "outputs": [],
   "source": [
    "dict1.keys()                           #output the keys"
   ]
  },
  {
   "cell_type": "code",
   "execution_count": null,
   "metadata": {},
   "outputs": [],
   "source": [
    "dict1.values()                        #output the values"
   ]
  },
  {
   "cell_type": "code",
   "execution_count": null,
   "metadata": {},
   "outputs": [],
   "source": [
    "dicta={'a' : 1}             #create a new dictionary \n",
    "dictb={'b' : 2}             #create another dictionary\n",
    "dicta.update(dictb)         #add the second dictionary to the first dictionary\n",
    "dicta"
   ]
  },
  {
   "cell_type": "markdown",
   "metadata": {},
   "source": [
    "<b>Dictionary functions</b><br>\n",
    "<li><b>Clear</b> clears the dictionary object<br>\n",
    "<li><b>Copy</b> returns a copy of the dictionary<br>\n",
    "<li><b>Items</b> returns a list of the key/value pairs</br>\n",
    "<li><b>Keys</b> returns a list of keys in the dictionary<br> \n",
    "<li><b>Values</b> returns a list of values in the dictionary<br>\n",
    "<li><b>Update</b> updates the dictionary with the specific key/value pairs<br>\n",
    "<li><b>Get</b> returns the value of the specified key<br>\n",
    "<li><b>Pop</b> removes the element with the specified key<br>\n",
    "<li><b>Popitem</b> removes the last inserted key/value pair    \n"
   ]
  },
  {
   "cell_type": "code",
   "execution_count": null,
   "metadata": {},
   "outputs": [],
   "source": [
    "dict_test={}                 #create a new dictionary object\n",
    "dict_test['key1']='This is the value for key1'      #assign a key/value pair to the dictionary object\n",
    "print(dict_test)            #print the dictionary object before clearing it\n",
    "dict_test.clear()           #clear the dictionary object\n",
    "print(dict_test)            #print the dictionary object after clearing it"
   ]
  },
  {
   "cell_type": "code",
   "execution_count": null,
   "metadata": {},
   "outputs": [],
   "source": [
    "dict_test={}                 #create a new dictionary object\n",
    "dict_test['key1']='This is the value for key1'      #assign a key/value pair to the dictionary object\n",
    "dict_test_copy=dict_test.copy()              #create a copy of the dictionary object\n",
    "print(dict_test_copy)                        #print the copied dictionary object"
   ]
  },
  {
   "cell_type": "code",
   "execution_count": null,
   "metadata": {},
   "outputs": [],
   "source": [
    "dict_test_copy.update({'a random key' : 'a random value'})   #update the dictionary object with a new key/value pair\n",
    "print(dict_test_copy)            #print the updated dictionary object"
   ]
  },
  {
   "cell_type": "code",
   "execution_count": null,
   "metadata": {},
   "outputs": [],
   "source": [
    "print(dict_test_copy.keys())           #print the keys of the dictionary object\n",
    "print(dict_test_copy.values())         #print the values of the dictionary object\n",
    "print(dict_test_copy.items())          #print the key/value pairs in the dictionary object"
   ]
  },
  {
   "cell_type": "code",
   "execution_count": null,
   "metadata": {},
   "outputs": [],
   "source": [
    "a=dict_test_copy.get('key1')          #assign the variable a to the value of the key named key1\n",
    "print(a)                              #print the variable a\n",
    "b=dict_test_copy.get('key2')          #assign the variable b to the value of the key named key2\n",
    "print(b)                              #print the variable b"
   ]
  },
  {
   "cell_type": "code",
   "execution_count": null,
   "metadata": {},
   "outputs": [],
   "source": [
    "print(dict_test_copy)                #print the dictionary object before popping it\n",
    "dict_test_copy.popitem()             #remove the last key/value pair\n",
    "print(dict_test_copy)                #print the dictionary object after popping it"
   ]
  },
  {
   "cell_type": "code",
   "execution_count": null,
   "metadata": {},
   "outputs": [],
   "source": [
    "print(dict_test_copy)               #print the dictionary object\n",
    "dict_test_copy.pop('key2')          #pop a key that doesn't exist in the dictionary object...will result in an error\n"
   ]
  },
  {
   "cell_type": "code",
   "execution_count": null,
   "metadata": {},
   "outputs": [],
   "source": [
    "keys_list=['key0','key1','key2']    #create a list of keys to loop through\n",
    "print(dict_test_copy)               #print the dictionary object\n",
    "for k in keys_list:                 #loop through each key in the list\n",
    "    if not dict_test_copy.get(k) is None:   #check to see if the key exists in the dictionary object\n",
    "        dict_test_copy.pop(k)          #if the key exists in the dictionary then pop it\n",
    "    else:\n",
    "        print(f'{k} did not exist in the dictionary!')\n",
    "print(dict_test_copy)        "
   ]
  },
  {
   "cell_type": "markdown",
   "metadata": {},
   "source": [
    "<b>Shallow versus Deep copies</b><br>\n",
    " The example below shows the difference between a deep copy and a shallow copy"
   ]
  },
  {
   "cell_type": "code",
   "execution_count": null,
   "metadata": {},
   "outputs": [],
   "source": [
    "list1=['a','b','c']         #create a list which will be value in a dictionary object\n",
    "\n",
    "dict1={}                   #create a new empty dictionary object\n",
    "dict1['list1']=list1       #assign the key for 'list1' to the list1 list object....this is a deep copy\n",
    "print(dict1['list1'])\n",
    "\n",
    "list1.remove('a')          #remove 'a' from the list object list1\n",
    "print(dict1['list1'])      #see the value of the 'list1' key in the dictionary object...it has changed"
   ]
  },
  {
   "cell_type": "code",
   "execution_count": null,
   "metadata": {},
   "outputs": [],
   "source": [
    "list1=['a','b','c']         #create a list which will be value in a dictionary object\n",
    "\n",
    "dict1={}                   #create a new empty dictionary object\n",
    "dict1['list1']=list1[:]    #assign the key for 'list1' to to a shallow copy of the list1 list object\n",
    "print(dict1['list1'])\n",
    "\n",
    "list1.remove('a')          #remove 'a' from the list object list1\n",
    "print(dict1['list1'])      #see the value of the 'list1' key in the dictionary object...it should remain unchanged"
   ]
  },
  {
   "cell_type": "markdown",
   "metadata": {},
   "source": [
    "<b>Merging Lists</b>"
   ]
  },
  {
   "cell_type": "code",
   "execution_count": null,
   "metadata": {},
   "outputs": [],
   "source": [
    "list1=['color', 'shape', 'size']\n",
    "list2=['red','circle','large']\n",
    "list3=list(zip(list1,list2))\n",
    "print(list3)"
   ]
  },
  {
   "cell_type": "markdown",
   "metadata": {},
   "source": [
    "# Exercise 2"
   ]
  },
  {
   "cell_type": "markdown",
   "metadata": {},
   "source": [
    "<li>Create an empty dictionary object named dict_test<br>\n",
    "<li>Create 3 keys (firstName, middleName, lastName) in the dictionary and assign a value to each key using your own name<br>\n",
    "<li>Print all the keys in the dictionary<br>\n",
    "<li>Print all the values in the dictionary<br>\n",
    "<li>Loop through all the value in the dictionary and print the key and the value using the following syntax:   The value of {key} is {val}\n"
   ]
  },
  {
   "cell_type": "markdown",
   "metadata": {},
   "source": [
    "# Builtin Functions for data structures"
   ]
  },
  {
   "cell_type": "markdown",
   "metadata": {},
   "source": [
    "<b>Map</b><br>\n",
    "This applies a function to each element in the data structure and adds them to a new data structure.<br><br>\n",
    "<i>NEW_DATA_STRUCTURE = MAP(FUNCTION NAME, DATA STRUCTURE)</i>"
   ]
  },
  {
   "cell_type": "code",
   "execution_count": null,
   "metadata": {},
   "outputs": [],
   "source": [
    "list1=[1,2,3]   #create a new list with values 1,2,3\n",
    "\n",
    "def mapIt(l):   #this is the syntax for creating a function\n",
    "    return l**2 #create a function named mapit that returns the square of the number that was passed\n",
    "\n",
    "new_list=map(mapIt,list1)  #create a new data structure named new_list\n",
    "\n",
    "for l in new_list:         #iterate through the new data structure and print each element\n",
    "    print(l)"
   ]
  },
  {
   "cell_type": "markdown",
   "metadata": {},
   "source": [
    "<b>Filter</b>\n",
    "This applies a function to each element in the data structure and returns the one that evaluate as True<br><br>\n",
    "\n",
    "<i>NEW_DATA_STRUCTURE = FILTER(FUNCTION NAME, DATA STRUCTURE)</i>"
   ]
  },
  {
   "cell_type": "code",
   "execution_count": null,
   "metadata": {},
   "outputs": [],
   "source": [
    "def checkNumber(n):\n",
    "    if n > 5:\n",
    "        return True\n",
    "    else:\n",
    "        return False\n",
    "    \n",
    "list2=[2,4,6,8,10]    \n",
    "new_list2=filter(checkNumber,list2)\n",
    "for n in new_list2:\n",
    "    print(n)"
   ]
  },
  {
   "cell_type": "code",
   "execution_count": null,
   "metadata": {},
   "outputs": [],
   "source": [
    "from functools import reduce\n",
    "\n",
    "def reduceIt(n,z):           #this function will take the initial element in the list and multiply it by the second element\n",
    "    return n * z             #it will repeat this for each element in the list\n",
    "                             \n",
    "\n",
    "list3=[1,2,3,4,5,6,7,8,9,10]\n",
    "\n",
    "list_factorial = reduce(reduceIt,list3)  #apply the reduceIt function to each element in the list\n",
    "print(list_factorial)        #the reduce function returns a single value not an interable data structure\n",
    "    "
   ]
  },
  {
   "cell_type": "markdown",
   "metadata": {},
   "source": [
    "# TUPLES"
   ]
  },
  {
   "cell_type": "markdown",
   "metadata": {},
   "source": [
    "A tuple is a container just like a list but it uses () instead of []. Also, a tuple is immutable unlike a list which is mutable. That basically means that once a tuple has been created it cannot be modified, only deleted."
   ]
  },
  {
   "cell_type": "code",
   "execution_count": null,
   "metadata": {},
   "outputs": [],
   "source": [
    "a=(1,)             #create a tuple...if only 1 element then add a comma at the end"
   ]
  },
  {
   "cell_type": "code",
   "execution_count": null,
   "metadata": {},
   "outputs": [],
   "source": [
    "b=('my','name','is','Mark')     #create a tuple with 4 elements\n",
    "print(type(b))"
   ]
  },
  {
   "cell_type": "code",
   "execution_count": null,
   "metadata": {},
   "outputs": [],
   "source": [
    "print(b[0])        #just like a list use the index position to access a specific element"
   ]
  },
  {
   "cell_type": "code",
   "execution_count": null,
   "metadata": {},
   "outputs": [],
   "source": [
    "b[3]='Jason'    #this will not work since a tuple is immutable...once it has been created it cannot be updated"
   ]
  },
  {
   "cell_type": "code",
   "execution_count": null,
   "metadata": {},
   "outputs": [],
   "source": [
    "for e in b:           #you can iterate through a tuple just like a list\n",
    "    print(e)"
   ]
  },
  {
   "cell_type": "code",
   "execution_count": null,
   "metadata": {},
   "outputs": [],
   "source": [
    "del[b]               #you can remove a tuple only by deleting it"
   ]
  },
  {
   "cell_type": "markdown",
   "metadata": {},
   "source": [
    "# JSON"
   ]
  },
  {
   "cell_type": "markdown",
   "metadata": {},
   "source": [
    "JSON stands for Java Script Object Notation. JSON is a very popular format for storing and transferring data. It resembles a Dictionary object. It is considered an object but it must be converted to a string before being shared across web servers."
   ]
  },
  {
   "cell_type": "code",
   "execution_count": null,
   "metadata": {},
   "outputs": [],
   "source": [
    "import json"
   ]
  },
  {
   "cell_type": "markdown",
   "metadata": {},
   "source": [
    "JSONs can be created from an existing dictionary using the JSON package"
   ]
  },
  {
   "cell_type": "code",
   "execution_count": null,
   "metadata": {},
   "outputs": [],
   "source": [
    "json1=json.dumps(dict1) #this creates a string JSON object named json1 from the dict1 dictionary"
   ]
  },
  {
   "cell_type": "code",
   "execution_count": null,
   "metadata": {},
   "outputs": [],
   "source": [
    "json2=json.loads(json1) #this loads the JSON object fro the JSON string object"
   ]
  },
  {
   "cell_type": "code",
   "execution_count": null,
   "metadata": {},
   "outputs": [],
   "source": [
    "json2"
   ]
  },
  {
   "cell_type": "code",
   "execution_count": null,
   "metadata": {},
   "outputs": [],
   "source": [
    "students = {\n",
    "    \"student_info\" : [\n",
    "        {\"student_name\" : \"Mark\",\n",
    "         \"student_age\" : 25,\n",
    "         \"student_gender\" : \"Male\"},\n",
    "        \n",
    "        {\"student_name\" : \"Sally\",\n",
    "         \"student_age\" : 27,\n",
    "         \"student_gender\" : \"Female\"},\n",
    "        \n",
    "        {\"student_name\" : \"Joe\",\n",
    "         \"student_age\" : 31,\n",
    "         \"student_gender\" : \"Male\"} \n",
    "    ]\n",
    "    }"
   ]
  },
  {
   "cell_type": "code",
   "execution_count": null,
   "metadata": {},
   "outputs": [],
   "source": [
    "student=json.dumps(students)"
   ]
  },
  {
   "cell_type": "code",
   "execution_count": null,
   "metadata": {},
   "outputs": [],
   "source": [
    "students2=json.loads(student)"
   ]
  },
  {
   "cell_type": "code",
   "execution_count": null,
   "metadata": {},
   "outputs": [],
   "source": [
    "for x in students2['student_info']:\n",
    "    print(x['student_name'])\n"
   ]
  },
  {
   "cell_type": "markdown",
   "metadata": {},
   "source": [
    "# Pickling"
   ]
  },
  {
   "cell_type": "markdown",
   "metadata": {},
   "source": [
    "Pickling is a way or storing your data structures permanently in a binary file format. Otherwise, whenever the python session is over the data structure will disappear. Pickling allows you to persist your data so that it can be recalled at a later time when needed."
   ]
  },
  {
   "cell_type": "code",
   "execution_count": null,
   "metadata": {},
   "outputs": [],
   "source": [
    "import pickle                #import the pickle package\n",
    "import os                    #import the os package"
   ]
  },
  {
   "cell_type": "code",
   "execution_count": null,
   "metadata": {},
   "outputs": [],
   "source": [
    "print(os.getcwd())                                 #view the current working directory\n",
    "file_path=str(os.getcwd()) + \"\\\\\" + \"pickle1\"      #create a filepath to store your pickled file\n",
    "file_obj=open(file_path,\"wb\")                      #open the file and create a reference to it named file_obj"
   ]
  },
  {
   "cell_type": "code",
   "execution_count": null,
   "metadata": {},
   "outputs": [],
   "source": [
    "months=['Jan','Feb','Mar','Apr','May','Jun','Jul','Aug','Sep','Oct','Nov','Dec']  #create a list to store the months\n",
    "months_dict={}                       #create an empty dictionary object that will be pickled later       \n",
    "for index,m in enumerate(months):    #enumerate the list to generate the index number for each element in the list of months\n",
    "    months_dict[index+1]=m           #assign a value to each key in the dictionary object...use index+1 since it begins at 0\n",
    "print(months_dict)        "
   ]
  },
  {
   "cell_type": "code",
   "execution_count": null,
   "metadata": {},
   "outputs": [],
   "source": [
    "pickle.dump(months_dict,file_obj)    #pickle the dictionary to the filepath you created\n",
    "file_obj.close()                     #close the file"
   ]
  },
  {
   "cell_type": "code",
   "execution_count": null,
   "metadata": {},
   "outputs": [],
   "source": [
    "file_obj=open(file_path,\"rb\")       #open the file using the filepath you created\n",
    "p=pickle.load(file_obj)             #load the pickled object into a variable named p\n",
    "print(p)                            "
   ]
  }
 ],
 "metadata": {
  "kernelspec": {
   "display_name": "Python 3",
   "language": "python",
   "name": "python3"
  },
  "language_info": {
   "codemirror_mode": {
    "name": "ipython",
    "version": 3
   },
   "file_extension": ".py",
   "mimetype": "text/x-python",
   "name": "python",
   "nbconvert_exporter": "python",
   "pygments_lexer": "ipython3",
   "version": "3.8.3"
  }
 },
 "nbformat": 4,
 "nbformat_minor": 2
}
